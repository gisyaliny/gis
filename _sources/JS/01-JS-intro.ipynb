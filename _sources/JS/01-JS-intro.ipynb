{
 "cells": [
  {
   "cell_type": "markdown",
   "metadata": {},
   "source": [
    "# Values, Types, and Operators\n"
   ]
  },
  {
   "cell_type": "markdown",
   "metadata": {},
   "source": [
    "## Values\n",
    "\n",
    "- Every `value` has a `type` that determines its role\n",
    "\n",
    "  - Some `values` are `numbers`, some `values` are pieces of `text`, some `values` are `functions`, and so on.\n",
    "\n",
    "  ```\n",
    "  typeof 42; // Outputs: \"number\"\n",
    "  typeof \"Hello\"; // Outputs: \"string\"\n",
    "  typeof true; // Outputs: \"boolean\"\n",
    "  typeof undefined; // Outputs: \"undefined\"\n",
    "  typeof null; // Outputs: \"object\" (which is a known quirk)\n",
    "  typeof {}; // Outputs: \"object\"\n",
    "  typeof []; // Outputs: \"object\" (arrays are also objects)\n",
    "  typeof function(){}; // Outputs: \"function\"\n",
    "  ```\n",
    "\n",
    "## Numbers\n",
    "\n",
    "1. In a JavaScript program, they are written as follows : `13`\n",
    "2. For **very big or very small numbers**, you may also use scientific notation by adding an `e` (for exponent), followed by the exponent of the number. `2.998e8`\n",
    "3. **Special numbers**: There are three special values in JavaScript that are considered `numbers` but don’t behave like normal `numbers`.\n",
    "   1. The first two are `Infinity` and `-Infinity`\n",
    "   2. Third is `NaN`, stands for “not a number”\n",
    "\n",
    "- JavaScript uses a fixed number of bits, **64 of them**, to store a single `number` value.\n",
    "- The important thing is to be aware of it and **treat fractional digital numbers as approximations**, not as precise values.\n"
   ]
  },
  {
   "cell_type": "markdown",
   "metadata": {},
   "source": [
    "## Arithmetic operator\n",
    "\n",
    "1. Addition (`+`): Adds two operands.\n",
    "   1. `let sum = 3 + 5; // sum will be 8`\n",
    "2. Subtraction (`-`): Subtracts the right operand from the left operand.\n",
    "   1. `let difference = 10 - 4; // difference will be 6`\n",
    "3. Multiplication (`*`): Multiplies two operands.\n",
    "   1. `let product = 2 * 6; // product will be 12`\n",
    "4. Division (`/`): Divides the left operand by the right operand.\n",
    "   1. `let quotient = 8 / 2; // quotient will be 4`\n",
    "5. Remainder/Modulus (`%`): Returns the remainder when the left operand is divided by the right operand.\n",
    "   1. `let remainder = 10 % 3; // remainder will be 1`\n",
    "6. Exponentiation (`**`): Raises the left operand to the power of the right operand.\n",
    "   1. `let result = 2 ** 3; // result will be 8`\n"
   ]
  },
  {
   "cell_type": "markdown",
   "metadata": {},
   "source": [
    "## String\n",
    "\n",
    "1. `Strings` cannot be divided, multiplied, or subtracted, but the `+` operator can be used on them. It does not add, but it `concatenates`—it glues two strings together.\n",
    "   1. `\"con\" + \"cat\" + \"e\" + \"nate\"`\n",
    "2. Backtick-quoted strings, `${}`, usually called `template literals`. its result will be computed, converted to a string, and included at that position.\n",
    "   1. `half of 100 is ${100 / 2} // half of 100 is 50`\n"
   ]
  },
  {
   "cell_type": "markdown",
   "metadata": {},
   "source": [
    "## Logical Operators\n",
    "\n",
    "`||` has the lowest precedence, then comes `&&`, then the comparison operators (`>`, `==`, and so on), and then the rest.\n",
    "\n",
    "1. `Logical AND (&&)`: This operator returns true if both operands are true; otherwise, it returns false.\n",
    "   ```\n",
    "   let x = true;\n",
    "   let y = false;\n",
    "   console.log(x && y); // Outputs: false\n",
    "   ```\n",
    "2. `Logical OR (||)`: This operator returns true if at least one of the operands is true; otherwise, it returns false.\n",
    "   ```\n",
    "   let a = true;\n",
    "   let b = false;\n",
    "   console.log(a || b); // Outputs: true\n",
    "   ```\n",
    "3. `Logical NOT (!)`: This operator returns the opposite boolean value of the operand. If the operand is true, it returns false, and if the operand is false, it returns true.\n",
    "\n",
    "   ```\n",
    "   let p = true;\n",
    "   console.log(!p); // Outputs: false\n",
    "\n",
    "   let q = false;\n",
    "   console.log(!q); // Outputs: true\n",
    "   ```\n",
    "\n",
    "4. Ternary operator: It's often used as a shorthand for simple `if...else` statements.\n",
    "\n",
    "   1. `condition ? expression1 : expression2`\n",
    "\n",
    "   ```\n",
    "   let age = 20;\n",
    "   let message = (age >= 18) ? \"You are an adult\" : \"You are a minor\";\n",
    "   console.log(message); // Outputs: \"You are an adult\"\n",
    "   ```\n"
   ]
  },
  {
   "cell_type": "markdown",
   "metadata": {},
   "source": [
    "## Empty values\n",
    "\n",
    "There are two special values, written `null` and `undefined`, that are used to denote the **absence of a meaningful value**.\n",
    "\n",
    "- Many operations in the language that don’t produce a meaningful value yield `undefined` simply because they have to yield some value.\n"
   ]
  },
  {
   "cell_type": "markdown",
   "metadata": {},
   "source": [
    "## Automatic type conversion\n",
    "\n",
    "```\n",
    "console.log(8 * null)\n",
    "// → 0\n",
    "console.log(\"5\" - 1)\n",
    "// → 4\n",
    "console.log(\"5\" + 1)\n",
    "// → 51\n",
    "console.log(\"five\" * 2)\n",
    "// → NaN\n",
    "console.log(false == 0)\n",
    "// → true\n",
    "console.log(null == undefined);\n",
    "// → true\n",
    "console.log(null == 0);\n",
    "// → false\n",
    "console.log(null || \"user\")\n",
    "// → user\n",
    "console.log(\"Agnes\" || \"user\")\n",
    "// → Agnes\n",
    "```\n"
   ]
  }
 ],
 "metadata": {
  "language_info": {
   "name": "python"
  }
 },
 "nbformat": 4,
 "nbformat_minor": 2
}
