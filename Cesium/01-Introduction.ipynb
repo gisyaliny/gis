{
 "cells": [
  {
   "cell_type": "markdown",
   "metadata": {},
   "source": [
    "# Introduction\n",
    "\n",
    "- [Cesium](https://cesium.com/)\n",
    "\n",
    "Cesium is an **open-source JavaScript library** for creating 3D globes and maps. It allows developers to build interactive web-based applications with high-performance rendering of geospatial data. Cesium is particularly renowned for its capability to visualize **large-scale**, **time-dynamic**, and **geographically**\n",
    "\n",
    "- It requires support of `WebGL`\n",
    "- Based on `Apache 2.0` license\n",
    "\n",
    "![](https://images.prismic.io/cesium/f9240055-e3a6-49f1-aef9-30e2ed4b0600_cesium-for-unreal-open1.png?auto=compress%2Cformat&fit=crop&ar=16%3A9&crop=faces%2Ccenter&w=675)\n"
   ]
  },
  {
   "cell_type": "markdown",
   "metadata": {},
   "source": [
    "## Support Data Format\n",
    "\n",
    "- `GeoJSON`: A lightweight format for encoding geospatial data using JSON (JavaScript Object Notation).\n",
    "\n",
    "- `KML (Keyhole Markup Language)`: An XML-based format for expressing geographic annotation and visualization within Internet-based maps and Earth browsers.\n",
    "\n",
    "- `CZML (Cesium Language)`: A JSON-based format specifically designed for Cesium, allowing developers to describe time-dynamic scenes in Cesium applications.\n",
    "\n",
    "- `3D Tiles`: A format for streaming massive heterogeneous 3D geospatial datasets, enabling efficient visualization of large-scale 3D content such as terrain, buildings, and point clouds.\n",
    "\n",
    "- `Tileset`: Cesium supports various tileset formats for efficiently rendering large-scale datasets, including formats like quantized-mesh, 3D Tiles, and terrain tiles.\n",
    "\n",
    "- `STL (Stereolithography)`: A file format native to the stereolithography `CAD` software used for creating 3D models, commonly used for representing 3D geometry in Cesium applications.\n",
    "\n",
    "- `COLLADA (COLLAborative Design Activity)`: A 3D model interchange format for exchanging digital assets between different graphics software applications, often used for importing 3D models into Cesium scenes.\n",
    "\n",
    "- `OBJ (Wavefront .obj file)`: A simple text-based format for representing 3D models, suitable for importing into Cesium applications for visualization.\n",
    "\n",
    "- `GML (Geography Markup Language)`: An `XML`-based encoding for the transport and storage of geographic information, supported in Cesium for interoperability with GIS systems.\n"
   ]
  },
  {
   "cell_type": "markdown",
   "metadata": {},
   "source": [
    "## Cesium in developing\n",
    "\n",
    "![](https://gisyaliny.github.io/gis/assets/01.png)\n",
    "\n",
    "## Learning component for Cesium\n",
    "\n",
    "![](https://gisyaliny.github.io/gis/assets/02.png)\n"
   ]
  }
 ],
 "metadata": {
  "language_info": {
   "name": "python"
  }
 },
 "nbformat": 4,
 "nbformat_minor": 2
}
